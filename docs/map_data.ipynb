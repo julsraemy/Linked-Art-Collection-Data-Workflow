{
 "cells": [
  {
   "cell_type": "markdown",
   "id": "a09cf3bd",
   "metadata": {},
   "source": [
    "# How to map collection data to intermediate JSON format with map_data.py\n",
    "\n",
    "## Introduction\n",
    "\n",
    "The `map_data.py` file maps collection data in JSON format, retrieved from the PIA JSON API, to an intermediate JSON format. \n",
    "\n",
    "\n",
    "A .yaml file is used for script variables. The filepath for the .yaml file is specified as a script argument --config\n",
    "\n",
    "## Example settings.yaml  file\n",
    "\n",
    "A settings.yaml file is specified in the script argument --config. \n",
    "\n",
    "An example config file can be viewed at [example settings.yaml](/digitalobject/settings.yaml)\n",
    "\n",
    "Example content:\n",
    "\n",
    "```yaml\n",
    "- - - # settings for digital object\n",
    "- settings:\n",
    "  default_lang        : en\n",
    "  base_url            : https://linkedart.participatory-archives.ch/\n",
    "  pia_api_uri         : https://data.participatory-archives.ch/api/v1/images\n",
    "  pia_api_include     : include=collections,date,place\n",
    "  page_size           : 500\n",
    "  directory           : digitalobject/\n",
    "  a_collection        : data/a_collection\n",
    "  b_mapped            : data/b_mapped\n",
    "  c_linked_art        : data/c_linked_art\n",
    "  template            : template.jsonnet\n",
    "...\n",
    "```\n",
    "\n",
    "\n",
    "## Files\n",
    "- map_data.py - main script\n",
    "- map_data_func.py \n",
    "- template.jsonnet - JSON template for intermediate JSON file to be populated with collection data\n",
    "- settings.py - use function 'query_api()' to check that the correct script arguments have been provided\n",
    "- objtype/data/a_collection/*.json - collection data files from PIA JSON API\n",
    "- objtype/data/b_mapped/*.json - output JSON files\n",
    "\n",
    "## Help\n",
    "The following will provide information about arguments to use with the script.\n",
    "```\n",
    "python3 map_data.py -h \n",
    "```\n",
    "\n",
    "## Example command\n",
    "\n",
    "```python\n",
    "map_data.py --objtype <objecttype> --config <config-file> --template <jsonnet-template-filepath>\n",
    "```\n",
    "e.g.\n",
    "```python\n",
    "python3 map_data.py --objtype set --config set/settings.yaml --template set/template.jsonnet\n",
    "\n",
    "```\n",
    "\n",
    "`--objtype` is one of:\n",
    "- `humanmadeobject`\n",
    "- `digitalobject` \n",
    "- `set`\n",
    "\n",
    "## Load Python packages"
   ]
  },
  {
   "cell_type": "markdown",
   "id": "8b150b00",
   "metadata": {},
   "source": []
  },
  {
   "cell_type": "markdown",
   "id": "291611cd",
   "metadata": {},
   "source": [
    "## Import Python libraries and local functions\n",
    "\n",
    "Imports Python libraries and locally-defined functions in map_data_func.py"
   ]
  },
  {
   "cell_type": "code",
   "execution_count": 1,
   "id": "d617b477",
   "metadata": {},
   "outputs": [
    {
     "ename": "ModuleNotFoundError",
     "evalue": "No module named 'yaml'",
     "output_type": "error",
     "traceback": [
      "\u001b[0;31m---------------------------------------------------------------------------\u001b[0m",
      "\u001b[0;31mModuleNotFoundError\u001b[0m                       Traceback (most recent call last)",
      "Cell \u001b[0;32mIn [1], line 5\u001b[0m\n\u001b[1;32m      3\u001b[0m \u001b[38;5;28;01mfrom\u001b[39;00m \u001b[38;5;21;01mos\u001b[39;00m \u001b[38;5;28;01mimport\u001b[39;00m walk\n\u001b[1;32m      4\u001b[0m \u001b[38;5;28;01mfrom\u001b[39;00m \u001b[38;5;21;01mpathlib\u001b[39;00m \u001b[38;5;28;01mimport\u001b[39;00m Path\n\u001b[0;32m----> 5\u001b[0m \u001b[38;5;28;01mimport\u001b[39;00m \u001b[38;5;21;01myaml\u001b[39;00m\n\u001b[1;32m      6\u001b[0m \u001b[38;5;28;01mfrom\u001b[39;00m \u001b[38;5;21;01myaml\u001b[39;00m\u001b[38;5;21;01m.\u001b[39;00m\u001b[38;5;21;01mloader\u001b[39;00m \u001b[38;5;28;01mimport\u001b[39;00m SafeLoader\n\u001b[1;32m      8\u001b[0m \u001b[38;5;66;03m# mapping functions in local dir\u001b[39;00m\n",
      "\u001b[0;31mModuleNotFoundError\u001b[0m: No module named 'yaml'"
     ]
    }
   ],
   "source": [
    "import json\n",
    "import os\n",
    "from os import walk\n",
    "from pathlib import Path\n",
    "import yaml\n",
    "from yaml.loader import SafeLoader\n",
    "\n",
    "# mapping functions in local dir\n",
    "import map_data_func\n",
    "\n",
    "\n",
    "\n"
   ]
  },
  {
   "cell_type": "markdown",
   "id": "827e9cfc",
   "metadata": {},
   "source": [
    "## Get settings\n",
    "- Commented out use of settings.py\n",
    "- Using inline variables instead"
   ]
  },
  {
   "cell_type": "code",
   "execution_count": null,
   "id": "0ed13713",
   "metadata": {},
   "outputs": [
    {
     "ename": "",
     "evalue": "",
     "output_type": "error",
     "traceback": [
      "\u001b[1;31mRunning cells with 'Python 3.9.12 64-bit' requires ipykernel package.\n",
      "\u001b[1;31mRun the following command to install 'ipykernel' into the Python environment. \n",
      "\u001b[1;31mCommand: '/usr/local/bin/python3 -m pip install ipykernel -U --user --force-reinstall'"
     ]
    }
   ],
   "source": [
    "# settings.py in local dir\n",
    "# commented out for jupyter notebook\n",
    "#import settings\n",
    "#[objtype, config_file, template] = settings.map_data()\n",
    "\n",
    "objtype = 'digitalobject'\n",
    "config_file = '../digitalobject/settings.yaml'\n",
    "template = '../digitalobject/template.jsonnet' "
   ]
  },
  {
   "cell_type": "markdown",
   "id": "07b3bbe7",
   "metadata": {},
   "source": [
    "## Read settings in configuration file"
   ]
  },
  {
   "cell_type": "code",
   "execution_count": null,
   "id": "3e499883",
   "metadata": {},
   "outputs": [
    {
     "ename": "",
     "evalue": "",
     "output_type": "error",
     "traceback": [
      "\u001b[1;31mRunning cells with 'Python 3.9.12 64-bit' requires ipykernel package.\n",
      "\u001b[1;31mRun the following command to install 'ipykernel' into the Python environment. \n",
      "\u001b[1;31mCommand: '/usr/local/bin/python3 -m pip install ipykernel -U --user --force-reinstall'"
     ]
    }
   ],
   "source": [
    "# ===============================================\n",
    "# READ IN CONFIG\n",
    "\n",
    "with open(config_file) as f:\n",
    "    data = yaml.load(f, Loader=SafeLoader)\n",
    "    config = data[1]\n",
    "\n",
    "directory = config[\"directory\"]\n",
    "a_collection = directory + config[\"a_collection\"] # dir to store collection data files\n",
    "b_mapped = directory + config[\"b_mapped\"] # dir to store mapped data\n",
    "template = Path(template).read_text() # jsonnet template for intermediate JSON data file\n",
    "\n",
    "\n",
    "\n"
   ]
  },
  {
   "cell_type": "code",
   "execution_count": null,
   "id": "63419279",
   "metadata": {},
   "outputs": [
    {
     "ename": "",
     "evalue": "",
     "output_type": "error",
     "traceback": [
      "\u001b[1;31mRunning cells with 'Python 3.9.12 64-bit' requires ipykernel package.\n",
      "\u001b[1;31mRun the following command to install 'ipykernel' into the Python environment. \n",
      "\u001b[1;31mCommand: '/usr/local/bin/python3 -m pip install ipykernel -U --user --force-reinstall'"
     ]
    }
   ],
   "source": [
    "## ===============================================\n",
    "\n",
    "# ITERATE OVER FILES IN COLLECTION DATA DIR\n",
    "\n",
    "files = []\n",
    "for (dirpath, dirnames, filenames) in walk(a_collection):\n",
    "    files.extend(filenames)\n",
    "    break\n",
    "files.sort()\n",
    "\n",
    "for file in files:\n",
    "    filename = os.path.basename(file)\n",
    "    print(filename)  \n",
    "    # open file \n",
    "    with open(a_collection + '/' + file) as json_file:\n",
    "        filename = os.path.basename(file)\n",
    "        # load data into python dict\n",
    "        data = json.load(json_file)\n",
    "            \n",
    "        # create lists for additional image, date and place data identified in record\n",
    "        \n",
    "        mapped_data = None\n",
    "\n",
    "        # iterate over included data and append  date, collection and place data to lists\n",
    "        if \"included\" in data:\n",
    "            include_data = []\n",
    "            data_dates  = []\n",
    "            data_places = []\n",
    "            data_collections = []\n",
    "\n",
    "            for record in data[\"included\"]:\n",
    "                if record[\"type\"] == \"dates\":\n",
    "                    data_dates.append(record)\n",
    "                elif record[\"type\"] == \"places\":\n",
    "                    data_places.append(record) \n",
    "                elif record[\"type\"] == \"collections\":\n",
    "                    data_collections.append(record)            \n",
    "            include_data = [data_dates,data_places,data_collections]\n",
    "\n",
    "        # map data for digital object and humanmadeobject\n",
    "        if objtype in [\"humanmadeobject\",\"digitalobject\"]:\n",
    "            data_images = []\n",
    "            for record in data[\"data\"]:\n",
    "                if record[\"type\"] == \"images\":\n",
    "                    if objtype == \"digitalobject\" and record[\"attributes\"][\"base_path\"] == \"SGV_10\":\n",
    "                        data_images.append(record)\n",
    "                    elif objtype == \"humanmadeobject\" and record[\"attributes\"][\"base_path\"] == \"SGV_12\":\n",
    "                        data_images.append(record)\n",
    "            for record in data_images:\n",
    "                json_data = map_data_func.images(record,template, include_data)\n",
    "                map_data_func.save_file(json_data,b_mapped, record[\"id\"])\n",
    "        \n",
    "        # map collection data\n",
    "        if objtype == 'set':\n",
    "            for record in data[\"data\"]:\n",
    "                if record[\"type\"] == \"collections\":\n",
    "                    json_data = map_data_func.set(record,template)\n",
    "                    map_data_func.save_file(json_data, b_mapped, record[\"id\"])\n",
    "\n",
    "\n",
    "\n"
   ]
  }
 ],
 "metadata": {
  "kernelspec": {
   "display_name": "Python 3.9.12 64-bit",
   "language": "python",
   "name": "python3"
  },
  "language_info": {
   "codemirror_mode": {
    "name": "ipython",
    "version": 3
   },
   "file_extension": ".py",
   "mimetype": "text/x-python",
   "name": "python",
   "nbconvert_exporter": "python",
   "pygments_lexer": "ipython3",
   "version": "3.9.12"
  },
  "vscode": {
   "interpreter": {
    "hash": "aee8b7b246df8f9039afb4144a1f6fd8d2ca17a180786b69acc140d282b71a49"
   }
  }
 },
 "nbformat": 4,
 "nbformat_minor": 5
}
