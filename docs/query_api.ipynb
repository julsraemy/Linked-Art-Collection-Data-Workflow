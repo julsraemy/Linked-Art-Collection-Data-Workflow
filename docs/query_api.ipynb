{
 "cells": [
  {
   "cell_type": "markdown",
   "id": "85f4919c",
   "metadata": {},
   "source": [
    "# How to query PIA JSON API with query_api.py\n",
    "\n",
    "## Introduction\n",
    "\n",
    "The query_api.py file queries the PIA JSON API and writes the JSON files returned to a local directory, ready for transformation to Linked Art JSON-LD.\n",
    "\n",
    "A .yaml file is used for script variables. The filepath for the .yaml file is specified as a script argument --config\n",
    "\n",
    "## Example settings.yaml  file\n",
    "\n",
    "A settings.yaml file is specified in the script argument --config. \n",
    "\n",
    "An example config file can be viewed at [example settings.yaml](/digitalobject/settings.yaml)\n",
    "\n",
    "Example content:\n",
    "\n",
    "```yaml\n",
    "- - - # settings for digital object\n",
    "- settings:\n",
    "  default_lang        : en\n",
    "  base_url            : https://data.participatory-archives.ch/\n",
    "  pia_api_uri         : https://json.participatory-archives.ch/api/v1/images\n",
    "  pia_api_include     : include=collections,date,place\n",
    "  page_size           : 500\n",
    "  directory           : digitalobject/\n",
    "  a_collection        : data/a_collection\n",
    "  b_mapped            : data/b_mapped\n",
    "  c_linked_art        : data/c_linked_art\n",
    "  template            : template.jsonnet\n",
    "...\n",
    "```\n",
    "\n",
    "The query URL for the PIA API query is contstructed using 'pia_api_url' and 'pia_api_include' in the settings.yaml file\n",
    "\n",
    "JSON files are written to a local directory, with the filepath constructed using the 'directory', 'a_collection' and 'page_size' variables in the setting.yaml file.\n",
    "\n",
    "\n",
    "## Files\n",
    "- query_api.py - main script\n",
    "- settings.py - use function 'query_api()' to check that the correct script arguments have been provided\n",
    "\n",
    "\n",
    "## Help\n",
    "The following will provide information about arguments to use with the script.\n",
    "```\n",
    "python3 query_api.py -h \n",
    "```\n",
    "\n",
    "## Example command\n",
    "\n",
    "```python\n",
    "query_api.py  --config <config-file>\n",
    "```\n",
    "e.g.\n",
    "```python\n",
    "python3 query_api.py --config ./digitalobject/settings.yaml \n",
    "```\n",
    "\n",
    "## Load Python packages"
   ]
  },
  {
   "cell_type": "code",
   "execution_count": 1,
   "id": "8166d167",
   "metadata": {},
   "outputs": [],
   "source": [
    "import json\n",
    "import requests\n",
    "import sys\n",
    "import traceback\n",
    "import yaml\n",
    "from yaml.loader import SafeLoader\n"
   ]
  },
  {
   "cell_type": "markdown",
   "id": "df4cbb4d",
   "metadata": {},
   "source": [
    "## Read in config file\n",
    "\n",
    "Usually command line argument `--config` but added as var `config_file` here"
   ]
  },
  {
   "cell_type": "code",
   "execution_count": null,
   "id": "ca36043b",
   "metadata": {},
   "outputs": [],
   "source": []
  },
  {
   "cell_type": "code",
   "execution_count": 2,
   "id": "0f2bed37",
   "metadata": {},
   "outputs": [
    {
     "data": {
      "text/plain": [
       "{'settings': None,\n",
       " 'default_lang': 'en',\n",
       " 'base_url': 'https://linkedart.participatory-archives.ch/',\n",
       " 'pia_api_uri': 'https://data.participatory-archives.ch/api/v1/images',\n",
       " 'pia_api_include': 'include=collections,date,place',\n",
       " 'page_size': 500,\n",
       " 'directory': 'digitalobject/',\n",
       " 'a_collection': 'data/a_collection',\n",
       " 'b_mapped': 'data/b_mapped',\n",
       " 'c_linked_art': 'data/c_linked_art',\n",
       " 'template': 'template.jsonnet'}"
      ]
     },
     "execution_count": 2,
     "metadata": {},
     "output_type": "execute_result"
    }
   ],
   "source": [
    "# commented out as not using command line argument for config file\n",
    "# settings.py in local dir\n",
    "#import settings\n",
    "\n",
    "config_file = \"../digitalobject/settings.yaml\"\n",
    "\n",
    "with open(config_file) as f:\n",
    "    data = (yaml.load(f, Loader=SafeLoader))\n",
    "    \n",
    "    config = data[1]\n",
    "\n",
    "config"
   ]
  },
  {
   "cell_type": "markdown",
   "id": "a8dc71ad",
   "metadata": {},
   "source": [
    "## Option to modify the config settings\n",
    "If you'd like to try different settings, update the config dictionary in the next code cell e.g. config[\"directory\"] = \"../digitalobject/\""
   ]
  },
  {
   "cell_type": "code",
   "execution_count": 3,
   "id": "7745c948",
   "metadata": {},
   "outputs": [],
   "source": [
    "config[\"directory\"] = \"../digitalobject/\" # directory to save files to\n",
    "\n",
    "config[\"page_size\"] = 200 # number of records to return with each API query\n",
    "\n",
    "config[\"pia_api_uri\"] = 'https://json.participatory-archives.ch/api/v1/images' # PIA API to query\n",
    "\n",
    "config[\"pia_api_include\"] = 'include=collections,date,place' # additional data to include for each record returned with API call"
   ]
  },
  {
   "cell_type": "markdown",
   "id": "60d871ca",
   "metadata": {},
   "source": [
    "## Construct API Query URL\n",
    "get config variables, ready to construct API query URL \n"
   ]
  },
  {
   "cell_type": "code",
   "execution_count": 4,
   "id": "148390d1",
   "metadata": {},
   "outputs": [],
   "source": [
    "\n",
    "# dir to store collection data files\n",
    "a_collection = config[\"directory\"] + config[\"a_collection\"]\n",
    "\n",
    "# number of records to return per page\n",
    "page_size = config[\"page_size\"]\n",
    "\n",
    "# default total number of pages to return - actual number will be determined by call to API\n",
    "total_pages = 1\n",
    "\n",
    "\n",
    "# URI for PIA API\n",
    "api_uri = config[\"pia_api_uri\"]\n",
    "api_include = \"\"\n",
    "if config[\"pia_api_include\"] != None:\n",
    "    api_include = config[\"pia_api_include\"]"
   ]
  },
  {
   "cell_type": "markdown",
   "id": "c17f192c",
   "metadata": {},
   "source": [
    "## Query API to get total pages in resultset\n",
    "\n",
    "initial query of API to get total number of pages, to iterate through in next step"
   ]
  },
  {
   "cell_type": "code",
   "execution_count": 5,
   "id": "318d665b",
   "metadata": {},
   "outputs": [
    {
     "name": "stdout",
     "output_type": "stream",
     "text": [
      "total pages: 1\n"
     ]
    }
   ],
   "source": [
    "# get total number of pages\n",
    "query_total_pages = api_uri + \"?page[number]=1&page[size]=\" + str(page_size)\n",
    "response = requests.get(query_total_pages)\n",
    "result = response.json()\n",
    "\n",
    "# get total pages from api call\n",
    "total_pages = result[\"meta\"][\"page\"][\"lastPage\"]\n",
    "\n",
    "# add this to limit results returned in example\n",
    "total_pages = 1\n",
    "\n",
    "# construct query to return data\n",
    "query = api_uri + \"?\" + api_include + \"&page[size]=\" + str(page_size)\n",
    "\n",
    "\n",
    "\n",
    "print(\"total pages: \" + str(total_pages))"
   ]
  },
  {
   "cell_type": "markdown",
   "id": "b42e8101",
   "metadata": {},
   "source": [
    "## Query API and write files to local directory"
   ]
  },
  {
   "cell_type": "code",
   "execution_count": 6,
   "id": "8e6f5487",
   "metadata": {},
   "outputs": [
    {
     "name": "stdout",
     "output_type": "stream",
     "text": [
      "saving files to: ../digitalobject/data/a_collection\n",
      "\n",
      "https://data.participatory-archives.ch/api/v1/images?include=collections,date,place&page[size]=200&page[number]=1script completed\n"
     ]
    }
   ],
   "source": [
    "# QUERY API\n",
    "\n",
    "print(\"saving files to: \" + a_collection)\n",
    "\n",
    "# iterate through paged records\n",
    "for page in range(1, total_pages + 1):\n",
    "    # add page number to query\n",
    "    query1 = query + \"&page[number]=\" + str(page)\n",
    "    print('\\n' + query1, end='', flush=True)\n",
    "    # use try statement to pick up errors\n",
    "    try:\n",
    "        # query api\n",
    "        response = requests.get(query1)\n",
    "        json_data = response.json()\n",
    "\n",
    "        # write file to collection data dir\n",
    "        text_file = open(a_collection + \"/\" + str(page) + \".json\", \"wt\")\n",
    "        n = text_file.write(json.dumps(json_data, indent=2))\n",
    "        text_file.close()\n",
    "\n",
    "    except Exception as e:\n",
    "        traceback.print_exc()\n",
    "        sys.exit(1)\n",
    "\n",
    "print(\"script completed\")"
   ]
  }
 ],
 "metadata": {
  "kernelspec": {
   "display_name": "Python 3.10.2 64-bit",
   "language": "python",
   "name": "python3"
  },
  "language_info": {
   "codemirror_mode": {
    "name": "ipython",
    "version": 3
   },
   "file_extension": ".py",
   "mimetype": "text/x-python",
   "name": "python",
   "nbconvert_exporter": "python",
   "pygments_lexer": "ipython3",
   "version": "3.10.2"
  },
  "vscode": {
   "interpreter": {
    "hash": "aee8b7b246df8f9039afb4144a1f6fd8d2ca17a180786b69acc140d282b71a49"
   }
  }
 },
 "nbformat": 4,
 "nbformat_minor": 5
}
